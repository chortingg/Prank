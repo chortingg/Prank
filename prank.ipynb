{
 "cells": [
  {
   "cell_type": "code",
   "execution_count": 8,
   "metadata": {},
   "outputs": [],
   "source": [
    "from pynput.keyboard import Key, Controller\n",
    "kb = Controller()"
   ]
  },
  {
   "cell_type": "code",
   "execution_count": 9,
   "metadata": {},
   "outputs": [],
   "source": [
    "import time"
   ]
  },
  {
   "cell_type": "code",
   "execution_count": 10,
   "metadata": {},
   "outputs": [],
   "source": [
    "x = int(input(\"Pick your choice of spam: \\n 1. HAPPY APRIL FOOLS \\n 2. You Got Jebaited! \\n 3. Classic Navy Seal Copypasta \\n 4. BAKA \\n 5. Blackpink! \\n 6. TRUMP's SPEECH \\n 7. Grandfather \\n 8. Prego Copypasta \\n 9. NAvy Seal Part 2 \\n 10. Darth Plagueis The Wise \\n 100. Test Script \\n \\n\"))"
   ]
  },
  {
   "cell_type": "code",
   "execution_count": 11,
   "metadata": {},
   "outputs": [],
   "source": [
    "if (x == 1):\n",
    "    file = open('HAPPY APRIL FOOLS.txt', 'r')\n",
    "if (x == 2):\n",
    "    file = open('You Got Jebaited!.txt', 'r')\n",
    "if (x == 3):\n",
    "    file = open('NavySeal Copypasta (NSFW).txt', 'r')\n",
    "if (x == 4):\n",
    "    file = open('baka.txt', 'r')\n",
    "if (x == 5):\n",
    "    file = open('blackpink.txt', 'r')\n",
    "if (x == 6):\n",
    "    file = open('Donald Trump.txt', 'r')\n",
    "if (x == 7):\n",
    "    file = open('Grandfather.txt', 'r')\n",
    "if (x == 8):\n",
    "    file = open('prego copypasta.txt', 'r')\n",
    "if (x == 9):\n",
    "    file = open('NavySeal Pt 2.txt', 'r')\n",
    "if (x == 10):\n",
    "    file = open('Darth Plagueis.txt', 'r')\n",
    "if (x == 100):\n",
    "    file = open('Test Script.txt', 'r')\n",
    "\n",
    "# Customise your own spam messages and save it as a txt file (and continue the list of choices)! Note that spam messages will be sent one at a time!"
   ]
  },
  {
   "cell_type": "code",
   "execution_count": 12,
   "metadata": {},
   "outputs": [
    {
     "name": "stdout",
     "output_type": "stream",
     "text": [
      "Spambot runs in... \n",
      "\n",
      "10\n",
      "9\n",
      "8\n",
      "7\n",
      "6\n",
      "5\n",
      "4\n",
      "\tHave Fun!\n",
      "3\n",
      "2\n",
      "1\n"
     ]
    }
   ],
   "source": [
    "print (\"Spambot runs in... \\n\")  #For countdown\n",
    "count = 10\n",
    "while (count > 0):\n",
    "    time.sleep(1)\n",
    "    print (count)\n",
    "    count = count - 1\n",
    "    if (count == 3):\n",
    "        print(\"\\tHave Fun!\")"
   ]
  },
  {
   "cell_type": "code",
   "execution_count": 13,
   "metadata": {},
   "outputs": [],
   "source": [
    "while (True):      #loop for continuous spamming\n",
    "    char = file.read(1) #reads file, returns specified number of bytes from the file, in this case it reads 1 byte (1 char)\n",
    "    \n",
    "    def type_string(string): #Defining a function\n",
    "        for char in string:  #Loop over each character within the string (word)\n",
    "            kb.type(char)    #Type each character one by one\n",
    "    \n",
    "    type_string(char) #Function Call\n",
    "\n",
    "    if (char == \" \"):  #if char is a space (in between the words in the spam file)\n",
    "        kb.press(Key.enter) #press enter key (allowing it to send and actually make spam)\n",
    "        time.sleep(0.3)  #Time taken between each spam word/after every 'enter'\n",
    "    \n",
    "    #time.sleep(0.3)  #Put the time.sleep here instead if you want each letter to type slowly\n",
    "\n",
    "    if not char: #if there are no more messages left to send, exit loop and proceed to close file\n",
    "        kb.press(Key.enter) #final enter key to send the last message\n",
    "        break"
   ]
  },
  {
   "cell_type": "code",
   "execution_count": 14,
   "metadata": {},
   "outputs": [],
   "source": [
    "file.close()\n"
   ]
  }
 ],
 "metadata": {
  "kernelspec": {
   "display_name": "Python 3.9.2 64-bit",
   "metadata": {
    "interpreter": {
     "hash": "8f75881c12c87087d677f600967b559eeabf6158a15b322c575f5db601784a40"
    }
   },
   "name": "python3"
  },
  "language_info": {
   "codemirror_mode": {
    "name": "ipython",
    "version": 3
   },
   "file_extension": ".py",
   "mimetype": "text/x-python",
   "name": "python",
   "nbconvert_exporter": "python",
   "pygments_lexer": "ipython3",
   "version": "3.10.4"
  },
  "orig_nbformat": 2
 },
 "nbformat": 4,
 "nbformat_minor": 2
}
